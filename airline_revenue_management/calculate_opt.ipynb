{
 "cells": [
  {
   "cell_type": "code",
   "execution_count": null,
   "id": "b37990e3",
   "metadata": {},
   "outputs": [],
   "source": [
    "import itertools\n",
    "import numpy as np\n",
    "\n",
    "seed = 387\n",
    "num_rounds = 100\n",
    "num_types = 3\n",
    "\n",
    "DEBUG = False\n",
    "np.set_printoptions(precision=2, suppress=True)\n",
    "rg = np.random.default_rng(seed)\n",
    "\n",
    "airline_default_config = {\n",
    "    'epLen': num_rounds,\n",
    "    'f': np.asarray([1., 2.]),\n",
    "    'A': np.transpose(np.asarray([[2, 3, 2], [3, 0, 1]])),\n",
    "    'starting_state': np.asarray([7, 4, 4]),\n",
    "    'P': np.asarray([[1/3, 1/3] for _ in range(num_rounds+1)])\n",
    "}\n"
   ]
  },
  {
   "cell_type": "code",
   "execution_count": null,
   "id": "1adf2ba9",
   "metadata": {},
   "outputs": [],
   "source": [
    "optimal_values = np.zeros((num_rounds,8,5,5))\n",
    "for t in np.arange(num_rounds-1,-1,-1):\n",
    "    if DEBUG: print(f'Timestep: {t}')\n",
    "    for s in itertools.product(*[np.arange(airline_default_config['starting_state'][i]+1) for i in range(airline_default_config['starting_state'].shape[0])]):\n",
    "        q_vals = []\n",
    "        for a in [(0,0),(0,1),(1,0),(1,1)]:\n",
    "            default_dim = tuple(np.append(t+1,s))\n",
    "            next_vals = 0 if t+1 >= num_rounds else optimal_values[default_dim]\n",
    "            if a == (0,0): # chose to reject both of them\n",
    "                q_vals.append(next_vals)\n",
    "            elif a == (0,1): # accept the second type\n",
    "                temp_q = 0\n",
    "                if np.min(s - airline_default_config['A'][:, 1]) >= 0: # checks if the allocation is feasible\n",
    "                    new_dim = tuple(np.append(t+1, s - airline_default_config['A'][:, 1]))\n",
    "                    temp_q += (1/3)*(2 + (0 if t+1 >= num_rounds else optimal_values[new_dim])) + (2/3)*next_vals\n",
    "                else: # allocation is not feasible\n",
    "                    temp_q = next_vals\n",
    "                q_vals.append(temp_q)\n",
    "            elif a == (1,0): # accepts the first type\n",
    "                temp_q = 0\n",
    "                if np.min(s - airline_default_config['A'][:, 0]) >= 0: # checks if the allocation is feasible\n",
    "                    new_dim = tuple(np.append(t+1, s - airline_default_config['A'][:, 0]))\n",
    "                    temp_q = (1/3)*(1 + (0 if t+1 >= num_rounds else optimal_values[new_dim]))+(2/3)*next_vals\n",
    "                else: # allocation is not feasible\n",
    "                    temp_q = next_vals\n",
    "                q_vals.append(temp_q)\n",
    "            elif a == (1,1): # try and accept both types\n",
    "                temp_q = 0\n",
    "                if np.min(s - airline_default_config['A'][:, 1]) >= 0: # checks if the allocation is feasible\n",
    "                    new_dim = tuple(np.append(t+1, s - airline_default_config['A'][:, 1]))\n",
    "                    temp_q += (1/3)*(2 + (0 if t+1 >= num_rounds else optimal_values[new_dim]))\n",
    "                else:\n",
    "                    temp_q + (1/3)*next_vals\n",
    "                if np.min(s - airline_default_config['A'][:, 0]) >= 0: # checks if the allocation is feasible\n",
    "                    new_dim = tuple(np.append(t+1, s - airline_default_config['A'][:, 0]))\n",
    "                    temp_q += (1/3)*(1 + (0 if t+1 >= num_rounds else optimal_values[new_dim]))\n",
    "                else:\n",
    "                    temp_q += (1/3)*next_vals\n",
    "                temp_q += (1/3)*next_vals\n",
    "                q_vals.append(temp_q)\n",
    "        dim = tuple(np.append(t,s))\n",
    "#         print(np.max(q_vals))\n",
    "        q_max = np.max(q_vals)\n",
    "        optimal_values[dim]=q_max\n",
    "        if DEBUG: print(f'State: {s}, Value: {q_max}')\n",
    "        \n",
    "print(\"V_star\", optimal_values[0,7,4,4])"
   ]
  },
  {
   "cell_type": "code",
   "execution_count": null,
   "id": "7e57591a",
   "metadata": {},
   "outputs": [],
   "source": []
  }
 ],
 "metadata": {
  "kernelspec": {
   "display_name": "Python 3",
   "language": "python",
   "name": "python3"
  },
  "language_info": {
   "codemirror_mode": {
    "name": "ipython",
    "version": 3
   },
   "file_extension": ".py",
   "mimetype": "text/x-python",
   "name": "python",
   "nbconvert_exporter": "python",
   "pygments_lexer": "ipython3",
   "version": "3.6.13"
  }
 },
 "nbformat": 4,
 "nbformat_minor": 5
}
